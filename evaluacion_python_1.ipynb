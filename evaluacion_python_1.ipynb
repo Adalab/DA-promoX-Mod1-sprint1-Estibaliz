{
 "cells": [
  {
   "attachments": {},
   "cell_type": "markdown",
   "metadata": {},
   "source": [
    "**Métodos de *strings***\n",
    "\n",
    "Dado el siguiente *string* \n",
    "\n",
    "```python\n",
    "\n",
    "string = \"\"\"Hoy estamos en una clase de repaso,\n",
    "el objetivo es intentar solucionar todas vuestras dudas, \n",
    "preguntad todo lo que queráis! \n",
    "\"\"\"\n",
    "```\n",
    "\n",
    "\n",
    "Contesta a las siguientes preguntas: \n",
    "\n",
    "1️⃣ Crea dos variables nuevas: \n",
    "    - Una con el *string* en mayúsculas\n",
    "    - Otra con las letras en minúsculas\n",
    "\n",
    "2️⃣ Pon todas las primeras letras del *string* en mayúscula\n",
    "\n",
    "3️⃣ Separa el *string*  por los espacios y almacena el resultado en una lista llamanda `texto_lista`\n",
    "\n",
    "4️⃣ De la lista obtenida en el ejercicio anterior, selecciona solo los 5 primero elementos y almacena los resultados en una variable que se llame `texto_lista_corta` \n",
    "\n",
    "5️⃣ De la lista obtenida en el ejercicio 5. Vuelve a convertirlo en *string* \n",
    "\n",
    "6️⃣ Con el *string* obtenido en el paso anterior: \n",
    "\n",
    "    - Esta la palabra \"el\" en el *string* \n",
    "\n",
    "    - Reemplaza \"Hoy\" por nada\n",
    "\n",
    "    - El ejercicio anterior nos ha dejado espacios al inicio del string, eliminalos\n"
   ]
  },
  {
   "cell_type": "code",
   "execution_count": 330,
   "metadata": {},
   "outputs": [
    {
     "name": "stdout",
     "output_type": "stream",
     "text": [
      "HOY ESTAMOS EN UNA CLASE DE REPASO, EL OBJETIVO ES INTENTAR SOLUCIONAR TODAS VUESTRAS DUDAS, PREGUNTAD TODO LO QUE QUERÁIS!\n",
      "hoy estamos en una clase de repaso, el objetivo es intentar solucionar todas vuestras dudas, preguntad todo lo que queráis!\n",
      "Hoy Estamos En Una Clase De Repaso, El Objetivo Es Intentar Solucionar Todas Vuestras Dudas, Preguntad Todo Lo Que Queráis!\n"
     ]
    }
   ],
   "source": [
    "# String en mayúsculas, minúsculas y primeras letras mayúsculas\n",
    "\n",
    "string = \"Hoy estamos en una clase de repaso, el objetivo es intentar solucionar todas vuestras dudas, preguntad todo lo que queráis!\"\n",
    "\n",
    "str_mayusculas = string.upper()\n",
    "str_minusculas = string.lower()\n",
    "str_tittle = string.title()\n",
    "\n",
    "print(str_mayusculas)\n",
    "print(str_minusculas)\n",
    "print(str_tittle)"
   ]
  },
  {
   "cell_type": "code",
   "execution_count": 331,
   "metadata": {},
   "outputs": [
    {
     "name": "stdout",
     "output_type": "stream",
     "text": [
      "['Hoy', 'estamos', 'en', 'una', 'clase', 'de', 'repaso,', 'el', 'objetivo', 'es', 'intentar', 'solucionar', 'todas', 'vuestras', 'dudas,', 'preguntad', 'todo', 'lo', 'que', 'queráis!']\n"
     ]
    }
   ],
   "source": [
    "# separar el string por los espacios\n",
    "\n",
    "texto_lista = string.split(' ')\n",
    "\n",
    "print(texto_lista)"
   ]
  },
  {
   "cell_type": "code",
   "execution_count": 332,
   "metadata": {},
   "outputs": [
    {
     "data": {
      "text/plain": [
       "['Hoy', 'estamos', 'en', 'una', 'clase']"
      ]
     },
     "execution_count": 332,
     "metadata": {},
     "output_type": "execute_result"
    }
   ],
   "source": [
    "# 5 primeros elementos y convertirlo a strings\n",
    "\n",
    "texto_lista_corta = texto_lista[:5]\n",
    "\n",
    "texto_lista_corta"
   ]
  },
  {
   "cell_type": "code",
   "execution_count": 333,
   "metadata": {},
   "outputs": [
    {
     "name": "stdout",
     "output_type": "stream",
     "text": [
      "Hoy estamos en una clase\n"
     ]
    }
   ],
   "source": [
    "nuevo_string = ' '.join(texto_lista_corta)\n",
    "\n",
    "print(nuevo_string)"
   ]
  },
  {
   "cell_type": "code",
   "execution_count": 334,
   "metadata": {},
   "outputs": [
    {
     "data": {
      "text/plain": [
       "False"
      ]
     },
     "execution_count": 334,
     "metadata": {},
     "output_type": "execute_result"
    }
   ],
   "source": [
    "# Esta la palabra \"el\" en el *string* \n",
    "\n",
    "'el' in 'nuevo_string'"
   ]
  },
  {
   "cell_type": "code",
   "execution_count": 335,
   "metadata": {},
   "outputs": [
    {
     "data": {
      "text/plain": [
       "' estamos en una clase'"
      ]
     },
     "execution_count": 335,
     "metadata": {},
     "output_type": "execute_result"
    }
   ],
   "source": [
    "# Reemplaza \"Hoy\" por nada\n",
    "\n",
    "string_reemplazado = nuevo_string.replace('Hoy','')\n",
    "\n",
    "string_reemplazado"
   ]
  },
  {
   "cell_type": "code",
   "execution_count": 336,
   "metadata": {},
   "outputs": [
    {
     "data": {
      "text/plain": [
       "'estamos en una clase'"
      ]
     },
     "execution_count": 336,
     "metadata": {},
     "output_type": "execute_result"
    }
   ],
   "source": [
    "# Elimina los espacios al inicio del string\n",
    "\n",
    "string_final = string_reemplazado.strip()\n",
    "\n",
    "string_final\n",
    "\n"
   ]
  },
  {
   "attachments": {},
   "cell_type": "markdown",
   "metadata": {},
   "source": [
    "**Encuentra el número que no está en la lista**\n",
    "\n",
    "Tenemos una lista desordenada con números positivos de 1 a n. Siempre faltará un sólo número de esta lista aleatoria, ¿cómo identifico cuál falta? Cread un programa para que este código devuelva los resultados deseados:\n",
    "\n",
    "```python\n",
    "lista1 = [3,7,1,2,8,4,5] # nos tiene que devolver 6\n",
    "lista2 = [4,6,1,3,5] #  nos tiene que devolver 2\n",
    "lista3 = [34,35,36,38,39,40] # nos tiene que devolver 37\n",
    "```\n",
    "\n",
    "BONUS: Introduce los resultados obtenidos en un diccionario, indicando que numero falta para cada una de las listas:\n",
    "```python\n",
    "# por ejemplo\n",
    "\n",
    "resultados = {'falta_lista_1': valor_numerico_1, 'falta_lista_2': valor_numerico_2, 'falta_lista_3': valor_numerico_3}\n",
    "```"
   ]
  },
  {
   "cell_type": "code",
   "execution_count": 337,
   "metadata": {},
   "outputs": [],
   "source": [
    "lista1 = [3,7,1,2,8,4,5]\n",
    "lista2 = [4,6,1,3,5] \n",
    "lista3 = [34,35,36,38,39,40]"
   ]
  },
  {
   "cell_type": "code",
   "execution_count": 338,
   "metadata": {},
   "outputs": [],
   "source": [
    "valor1 = []\n",
    "valor2 = []\n",
    "valor3 = []\n",
    "\n",
    "resultados = {}"
   ]
  },
  {
   "cell_type": "code",
   "execution_count": 339,
   "metadata": {},
   "outputs": [
    {
     "name": "stdout",
     "output_type": "stream",
     "text": [
      "El elemento 6 no está en la lista\n",
      "El elemento 2 no está en la lista\n",
      "El elemento 37 no está en la lista\n"
     ]
    }
   ],
   "source": [
    "\n",
    "for num in range(1, 9):\n",
    "    if num not in lista1:\n",
    "        print(f'El elemento {num} no está en la lista')\n",
    "        valor1.append(num)\n",
    "    else:\n",
    "        resultados.update({'falta_1' : valor1})\n",
    "        continue\n",
    "\n",
    "for num in range(1, 6):\n",
    "    if num not in lista2:\n",
    "        print(f'El elemento {num} no está en la lista')\n",
    "        valor2.append(num)\n",
    "    else:\n",
    "        resultados.update({'falta_2' : valor2})\n",
    "        continue\n",
    "\n",
    "for num in range(35, 41):\n",
    "    if num not in lista3:\n",
    "        print(f'El elemento {num} no está en la lista')\n",
    "        valor3.append(num)\n",
    "    else:\n",
    "        resultados.update({'falta_3' : valor3})\n",
    "        continue\n"
   ]
  },
  {
   "cell_type": "code",
   "execution_count": 340,
   "metadata": {},
   "outputs": [
    {
     "data": {
      "text/plain": [
       "{'falta_1': [6], 'falta_2': [2], 'falta_3': [37]}"
      ]
     },
     "execution_count": 340,
     "metadata": {},
     "output_type": "execute_result"
    }
   ],
   "source": [
    "# BONUS: Introduce los resultados obtenidos en un diccionario, indicando que numero falta para cada una de las listas:\n",
    "\n",
    "# el resultado no es exactamente igual al propuesto.\n",
    "\n",
    "resultados"
   ]
  },
  {
   "cell_type": "markdown",
   "metadata": {},
   "source": [
    "**Mover los ceros a la izquierda**\n",
    "\n",
    "Nos dan un *string* con números aleatorios. Algunos de ellos son 0. Encuentra todos los ceros y ponlos al principio de la lista, manteniendo el orden de los demás números.\n",
    "\n",
    "Ejemplo:\n",
    "\n",
    "```python\n",
    "A = [1,10,88,0,59,63,0,20,0]\n",
    "\n",
    "# tiene que devolver\n",
    "[0, 0, 0, 1, 10, 88, 59, 63, 20]\n",
    "```"
   ]
  },
  {
   "cell_type": "code",
   "execution_count": 341,
   "metadata": {},
   "outputs": [
    {
     "name": "stdout",
     "output_type": "stream",
     "text": [
      "[0, 0, 0, 1, 10, 88, 59, 63, 20]\n"
     ]
    }
   ],
   "source": [
    "# poner todos los ceros al principio de la lista\n",
    "\n",
    "\n",
    "A = [1,10,88,0,59,63,0,20,0]\n",
    "\n",
    "A2 = A.copy()\n",
    "\n",
    "A3 = []\n",
    "\n",
    "for num in A2:\n",
    "    if num == 0:\n",
    "        A3.insert(0, num)\n",
    "        continue\n",
    "    else:\n",
    "        A3.append(num)\n",
    "\n",
    "\n",
    "print(A3)"
   ]
  },
  {
   "cell_type": "markdown",
   "metadata": {},
   "source": [
    "**Invertir palabras de una frase**\n",
    "\n",
    "Nos dan una frase en que quieren que las letras de cada palabra acaben teniendo el orden invertido, manteniendo el orden de las palabras.\n",
    "\n",
    "```python\n",
    "frase = 'Hola Ada'\n",
    "print(frase) # nos daría 'aloH adA'\n",
    "```"
   ]
  },
  {
   "cell_type": "code",
   "execution_count": 348,
   "metadata": {},
   "outputs": [
    {
     "data": {
      "text/plain": [
       "'aloH adA'"
      ]
     },
     "execution_count": 348,
     "metadata": {},
     "output_type": "execute_result"
    }
   ],
   "source": [
    "# después de atascarme y buscar información solo se me ha ocurrido convertilo en lista y acceder a los índices de la palabra\n",
    "\n",
    "frase = 'Hola Ada'\n",
    "\n",
    "frase_lista = frase.split(' ')\n",
    "\n",
    "frase_invertida = frase_lista[0][::-1] + ' ' + frase_lista[1][::-1]\n",
    "\n",
    "frase_invertida"
   ]
  },
  {
   "attachments": {},
   "cell_type": "markdown",
   "metadata": {},
   "source": [
    "###  ¿Es un DNI valido?\n",
    "\n",
    "Los DNI españoles pueden ser:\n",
    "\n",
    "- NIF (Numero de Identificación Fiscal) - 8 numeros y una letra, o\n",
    "- NIE (Numero de Identificación de Extranjeros) - 1 letra, 7 numeros y 1 letra."
   ]
  },
  {
   "cell_type": "code",
   "execution_count": 343,
   "metadata": {},
   "outputs": [
    {
     "data": {
      "text/plain": [
       "'X-1234567-Z, X-1234567, 12345678-M, 1234567-T, 12345677'"
      ]
     },
     "execution_count": 343,
     "metadata": {},
     "output_type": "execute_result"
    }
   ],
   "source": [
    "lista_dni = [\"X-1234567-Z\", \"X-1234567\", \"12345678-M\", \"1234567-T\", \"12345677\"]\n",
    "\n",
    "dni_str = ', '.join(lista_dni)\n",
    "\n",
    "dni_str\n"
   ]
  },
  {
   "cell_type": "code",
   "execution_count": 344,
   "metadata": {},
   "outputs": [
    {
     "data": {
      "text/plain": [
       "'X1234567Z, X1234567, 12345678M, 1234567T, 12345677'"
      ]
     },
     "execution_count": 344,
     "metadata": {},
     "output_type": "execute_result"
    }
   ],
   "source": [
    "nuevos_dni = dni_str.replace('-','')\n",
    "\n",
    "nuevos_dni"
   ]
  },
  {
   "cell_type": "code",
   "execution_count": 345,
   "metadata": {},
   "outputs": [
    {
     "data": {
      "text/plain": [
       "['X1234567Z', ' X1234567', ' 12345678M', ' 1234567T', ' 12345677']"
      ]
     },
     "execution_count": 345,
     "metadata": {},
     "output_type": "execute_result"
    }
   ],
   "source": [
    "dni_lista_nueva = nuevos_dni.split(',')\n",
    "\n",
    "dni_lista_nueva"
   ]
  },
  {
   "cell_type": "code",
   "execution_count": 346,
   "metadata": {},
   "outputs": [
    {
     "name": "stdout",
     "output_type": "stream",
     "text": [
      "['X1234567Z', ' X1234567', ' 12345678M', ' 1234567T', ' 12345677']\n",
      "El documento X1234567Z es un documento válido\n",
      "El documento  X1234567 es un documento válido\n",
      "El documento  12345678M no es válido\n",
      "El documento  1234567T es un documento válido\n",
      "El documento  12345677 es un documento válido\n",
      "['X1234567Z', ' X1234567', ' 1234567T', ' 12345677']\n",
      "[' 12345678M']\n"
     ]
    }
   ],
   "source": [
    "# EJERCICIO NO RESUELTO CORRECTAMENTE. HE ESTADO BUSCANDO CÓMO RESOLVERLO Y NO ME CONVENCÍA NINGUNA DE LAS EXPLICACIONES \n",
    "# O UTILIZABAN TERMINOS QUE NO ENTENDÍA, ASÍ QUE AUNQUE ESTE MAL PREFIERO DEJARLO ASÍ.\n",
    "\n",
    "\n",
    "print(dni_lista_nueva)\n",
    "\n",
    "dni_validos = []\n",
    "dni_invalidos = []\n",
    "\n",
    "for dni in dni_lista_nueva:\n",
    "    if len(dni) == 9:\n",
    "        dni_validos.append(dni)\n",
    "        print(f'El documento {dni} es un documento válido')\n",
    "    else:\n",
    "        dni_invalidos.append(dni)\n",
    "        print(f'El documento {dni} no es válido')\n",
    "        \n",
    "        \n",
    "print(dni_validos)      \n",
    "print(dni_invalidos) \n",
    "        "
   ]
  },
  {
   "attachments": {},
   "cell_type": "markdown",
   "metadata": {},
   "source": [
    "**BONUS: Encuentra los k números más cerca a X**\n",
    "\n",
    "\n",
    "Haz una programa que compare los contenidos de una lista a un número dado X. Queremos que nos devuelva los k números que son más parecidos al número dado.\n",
    "\n",
    "Ejemplo:\n",
    "```python\n",
    "L = [4, 19, -5, 100, 53, 43, 74, -83, 13.5, 26]\n",
    "# Dados los siguientes valores \n",
    "x =30\n",
    "k = 3 # el número de números que tendremos que buscar en la lista que se parecen a 30 \n",
    "# El output debería ser igual a [26, 19, 43]\n",
    "```"
   ]
  },
  {
   "cell_type": "code",
   "execution_count": 349,
   "metadata": {},
   "outputs": [
    {
     "name": "stdout",
     "output_type": "stream",
     "text": [
      "[26, 19, 43]\n"
     ]
    }
   ],
   "source": [
    "# He buscado varias soluciones sobre como se podia hacer, obviamente no he sabido hacerlo, he estado leyendo que significan los elementos usados.\n",
    "# Simplemente lo pongo para que quede constancia de que puedo buscar posibles soluciones.\n",
    "\n",
    "\n",
    "L = [4, 19, -5, 100, 53, 43, 74, -83, 13.5, 26]\n",
    "x =30\n",
    "k = 3\n",
    "\n",
    "k_elementos_cercanos = sorted(L, key=lambda num: abs(num - x))[:k]\n",
    "\n",
    "print(k_elementos_cercanos)"
   ]
  }
 ],
 "metadata": {
  "kernelspec": {
   "display_name": "Python 3",
   "language": "python",
   "name": "python3"
  },
  "language_info": {
   "codemirror_mode": {
    "name": "ipython",
    "version": 3
   },
   "file_extension": ".py",
   "mimetype": "text/x-python",
   "name": "python",
   "nbconvert_exporter": "python",
   "pygments_lexer": "ipython3",
   "version": "3.9.7"
  },
  "orig_nbformat": 4,
  "vscode": {
   "interpreter": {
    "hash": "31f2aee4e71d21fbe5cf8b01ff0e069b9275f58929596ceb00d14d90e3e16cd6"
   }
  }
 },
 "nbformat": 4,
 "nbformat_minor": 2
}
